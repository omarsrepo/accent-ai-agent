{
 "cells": [
  {
   "cell_type": "code",
   "execution_count": 4,
   "id": "46d63880",
   "metadata": {},
   "outputs": [
    {
     "data": {
      "text/plain": [
       "'c:\\\\Users\\\\GAME\\\\Desktop\\\\Accent Classifier\\\\accent-ai-agent'"
      ]
     },
     "execution_count": 4,
     "metadata": {},
     "output_type": "execute_result"
    }
   ],
   "source": [
    "import os\n",
    "os.chdir(\"c:\\\\Users\\\\GAME\\\\Desktop\\\\Accent Classifier\\\\accent-ai-agent\")\n",
    "os.getcwd()"
   ]
  },
  {
   "cell_type": "code",
   "execution_count": 5,
   "id": "7e30fd1a",
   "metadata": {},
   "outputs": [
    {
     "name": "stderr",
     "output_type": "stream",
     "text": [
      "C:\\Users\\GAME\\AppData\\Local\\Temp\\ipykernel_18480\\440712689.py:4: DtypeWarning: Columns (4) have mixed types. Specify dtype option on import or set low_memory=False.\n",
      "  df = pd.read_csv(\"train.tsv\", sep=\"\\t\")\n"
     ]
    },
    {
     "name": "stdout",
     "output_type": "stream",
     "text": [
      "Total rows with accents: 678177 / 1100826\n",
      "accents\n",
      "United States English                                                                                                                            278647\n",
      "England English                                                                                                                                   84813\n",
      "India and South Asia (India, Pakistan, Sri Lanka)                                                                                                 82150\n",
      "Canadian English                                                                                                                                  55574\n",
      "German English,Non native speaker                                                                                                                 49591\n",
      "                                                                                                                                                  ...  \n",
      "Born and raised in Greece. English is a second language. I was taught British English but I think my accent has shifted to American English.          3\n",
      "England English,Italian                                                                                                                               3\n",
      "A mix - A Thai native, non-native English speaker, initially educated under British system in Thailand then later educated in the US                  3\n",
      "South Atlantic (Falkland Islands, Saint Helena)                                                                                                       2\n",
      "United States English,Slight Latino accent, immigrant                                                                                                 2\n",
      "Name: count, Length: 392, dtype: int64\n",
      "Rows with matching audio files: 22762\n"
     ]
    }
   ],
   "source": [
    "import pandas as pd\n",
    "\n",
    "# Load TSV\n",
    "df = pd.read_csv(\"train.tsv\", sep=\"\\t\")\n",
    "\n",
    "# Step 1: Remove all rows where accents column is empty (Filtering out empty/null accents from the dataset)\n",
    "accent_df = df[df[\"accents\"].notnull() & (df[\"accents\"] != \"\")]\n",
    "print(f\"Total rows with accents: {len(accent_df)} / {len(df)}\")\n",
    "print(accent_df[\"accents\"].value_counts())\n",
    "accent_df.to_csv(\"filtered_with_accents.csv\", index=False)\n",
    "\n",
    "# Step 2: Check which files exist\n",
    "audio_folder = r\"c:\\Users\\GAME\\Desktop\\en train dataset\"\n",
    "available_files = set(os.listdir(audio_folder))\n",
    "\n",
    "# Step 3: Keep only rows where audio file exists\n",
    "final_df = accent_df[accent_df[\"path\"].isin(available_files)]\n",
    "print(f\"Rows with matching audio files: {len(final_df)}\")\n",
    "\n",
    "# We get a csv file with accents column populated and only contains rows for audio files we have readily available\n",
    "final_df.to_csv(\"filtered_train.csv\", index=False) "
   ]
  },
  {
   "cell_type": "code",
   "execution_count": null,
   "id": "f2682696",
   "metadata": {},
   "outputs": [
    {
     "data": {
      "text/plain": [
       "np.False_"
      ]
     },
     "execution_count": 16,
     "metadata": {},
     "output_type": "execute_result"
    }
   ],
   "source": []
  }
 ],
 "metadata": {
  "kernelspec": {
   "display_name": ".venv",
   "language": "python",
   "name": "python3"
  },
  "language_info": {
   "codemirror_mode": {
    "name": "ipython",
    "version": 3
   },
   "file_extension": ".py",
   "mimetype": "text/x-python",
   "name": "python",
   "nbconvert_exporter": "python",
   "pygments_lexer": "ipython3",
   "version": "3.11.9"
  }
 },
 "nbformat": 4,
 "nbformat_minor": 5
}
